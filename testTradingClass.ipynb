{
 "cells": [
  {
   "cell_type": "code",
   "execution_count": null,
   "source": [],
   "outputs": [],
   "metadata": {}
  },
  {
   "cell_type": "code",
   "execution_count": 18,
   "source": [
    "\r\n",
    "from datetime import date\r\n",
    "\r\n",
    "from numpy.lib.stride_tricks import as_strided\r\n",
    "import process\r\n",
    "from numpy.core.fromnumeric import take\r\n",
    "import pandas as pd \r\n",
    "import config\r\n",
    "import numpy as np \r\n",
    "\r\n",
    "from selenium import webdriver \r\n",
    "from selenium.webdriver.common.keys import Keys \r\n",
    "import statistics as stats\r\n",
    "from OrderManager import OrderManager\r\n",
    "import time\r\n",
    "class Strategy():\r\n",
    "    \r\n",
    "    def __init__(self, orderManager,  take_profit = 10, stop_loss = -4, trade_size = 1):\r\n",
    "        self.pnls = []\r\n",
    "        self.take_profit = take_profit\r\n",
    "        self.stop_loss = stop_loss\r\n",
    "        self.open_pnl = 0\r\n",
    "        self.close_pnl = 0\r\n",
    "        self.position = 0\r\n",
    "        self.real_time_price = 0\r\n",
    "        self.real_time_volume = 0\r\n",
    "        self.trade_size = trade_size\r\n",
    "        self.price =  0\r\n",
    "        self.total_buy  = 0\r\n",
    "        self.total_sell = 0\r\n",
    "        self.buy_quantity = 0 \r\n",
    "        self.sell_quantity = 0 \r\n",
    "        self.orderManager = orderManager\r\n",
    "\r\n",
    "    def set_real_time_price (self, real_time_price):\r\n",
    "        self.real_time_price = real_time_price\r\n",
    "\r\n",
    "    def set_real_time_volume(self, real_time_volume):\r\n",
    "        self.real_time_volume = real_time_volume\r\n",
    "    def getCurrentPnl(self):\r\n",
    "        return self.close_pnl + self.open_pnl\r\n",
    "\r\n",
    "    def calculateOpenPnl(self):\r\n",
    "        pass\r\n",
    "\r\n",
    "    def signal(self):\r\n",
    "        pass\r\n",
    "    \r\n",
    "    def BuyOder(self, price, quantity): # I plan that the orderManager will be different when we used differennt account in the sercurtites companyies\r\n",
    "      \r\n",
    "        self.orderManager.send_buy_order(price, quantity)\r\n",
    "\r\n",
    "    def SellOrder(self, price, quantity):\r\n",
    "        self.orderManager.send_sell_order(price, quantity)\r\n",
    "    \r\n",
    "    def StopLossOrder(self, orderManager): # this code is a speical type one I will code it in the last place\r\n",
    "        alphaSignal = self.signal()\r\n",
    "        orderManager.send_stop_loss_order('MTL', alphaSignal['price'], alphaSignal['quantity'], )\r\n",
    "\r\n",
    "    def enterLongPosition(self):\r\n",
    "        pass\r\n",
    "    def enterShortPosition(self):\r\n",
    "        pass\r\n",
    "\r\n",
    "    def StopLoss(self ,price, quantity):\r\n",
    "        if self.open_pnl  <= self.stop_loss:\r\n",
    "            if self.position == 1:\r\n",
    "                self.SellOrder(price, quantity)\r\n",
    "            elif self.position == -1:\r\n",
    "                self.BuyOder( price, quantity)\r\n",
    "\r\n",
    "    def TakeProfit(self,price, quantity):\r\n",
    "        if self.open_pnl  >= self.take_profit:\r\n",
    "            if self.position == 1:\r\n",
    "                self.SellOrder( price, quantity)\r\n",
    "            elif self.position == -1:\r\n",
    "                self.BuyOder( price, quantity)\r\n",
    "# we implement the base strategy with some general characters:\r\n",
    "\r\n",
    "# it must stop-loss and take-profit at some specific points # talk about the close position\r\n",
    "# the entry point is based on the entry signal from a specific strattegy\r\n",
    "# the exit point is based on the signal of overbought or oversold.\r\n",
    "# Any technical analysis requires the price and the volume\r\n",
    "# we buy and sell , not depend on the order book to find the best price because the \r\n",
    "class MA20(Strategy):\r\n",
    "    def __init__(self, orderManager,dateList, time_interval, periods):\r\n",
    "        super().__init__(orderManager)\r\n",
    "        self.last_position = 0 # this is a mean reversion strategy then we want to know the last_position\r\n",
    "        self.MA = self.get_MAs(dateList, time_interval, periods)\r\n",
    "    def get_MAs(self, dateList, time_interval, periods):\r\n",
    "        prices = process.process_past_data(dateList, time_interval=time_interval)['Price']\r\n",
    "        MA_values = []\r\n",
    "        MA_history = []\r\n",
    "\r\n",
    "        for i, price in enumerate(prices):\r\n",
    "            MA_values.append(price)\r\n",
    "            if len(MA_values) > periods:\r\n",
    "                del(MA_values[0])\r\n",
    "            MA_value = stats.mean(MA_values)\r\n",
    "            MA_history.append(MA_value)\r\n",
    "        del(MA_values[0])\r\n",
    "\r\n",
    "        return {'History': MA_history, 'LastMAPrice': MA_values}\r\n",
    "    \r\n",
    "    def update_MA(self, new_value):\r\n",
    "        self.MA['LastMAPrice'].append(new_value)\r\n",
    "        self.MA['History'].append(stats.mean(self.MA['LastMAPrice']))\r\n",
    "        del(self.MA['LastMAPrice'][0])\r\n",
    "\r\n",
    "    def enterLongPosition(self):\r\n",
    "        return self.real_time_price > self.MA['LastMAPrice'][-1] # enter long position\r\n",
    "    def enterShortPosition(self):\r\n",
    "        return self.real_time_price < self.MA['LastMAPrice'][-1] # enter short position\r\n",
    "    def signal(self):\r\n",
    "        if self.position == 0:\r\n",
    "            if self.enterLongPosition() == 1: # return a dict for sell and buy orders\r\n",
    "                self.BuyOder(self.real_time_price + 0.5, 1)\r\n",
    "                self.position = 1\r\n",
    "            elif self.enterShortPosition() == 1:\r\n",
    "                self.position = -1\r\n",
    "                self.SellOrder( self.real_time_price  - 0.5, 1) # we set the real_time_price - 0.5 to make sure that the order will match\r\n",
    "        elif self.position == 1: # we check the stoploss first before check the take_profit\r\n",
    "            self.StopLoss('MTL', 1) # prioritize stoploss with the MTL order\r\n",
    "            self.TakeProfit(self.real_time_price + 0.4, 1)\r\n",
    "        elif self.position == -1:\r\n",
    "            self.StopLoss('MTL', 1) # prioritize stoploss with the MTL order\r\n",
    "            self.TakeProfit(self.real_time_price + 0.4, 1)\r\n",
    "    \r\n",
    "    def getMatchedPrice(self):\r\n",
    "        \r\n",
    "        if self.orderManager.checkOrderStatus() == 'match':\r\n",
    "            currentPrice = self.orderManager.getMatchedPrice().text.replace(',','')\r\n",
    "            self.price = float(currentPrice)\r\n",
    "            \r\n",
    "            return 1\r\n",
    "        return -1\r\n",
    "    def calculateOpenPnl(self):\r\n",
    "        if self.position == 0:\r\n",
    "            self.open_pnl = 0\r\n",
    "            return 0;\r\n",
    "        elif self.position == 1:\r\n",
    "            self.open_pnl = self.real_time_price - self.price\r\n",
    "            return self.open_pnl\r\n",
    "        else:\r\n",
    "            self.open_pnl = self.real_time_price - self.price\r\n"
   ],
   "outputs": [],
   "metadata": {}
  },
  {
   "cell_type": "code",
   "execution_count": null,
   "source": [],
   "outputs": [],
   "metadata": {}
  },
  {
   "cell_type": "code",
   "execution_count": null,
   "source": [],
   "outputs": [],
   "metadata": {}
  },
  {
   "cell_type": "code",
   "execution_count": 8,
   "source": [
    "PATH=r\"C:\\Users\\han\\Desktop\\TradingBotVersion1\\chromedriver.exe\"\r\n",
    "def openProtrial():\r\n",
    "    driver = webdriver.Chrome(PATH)\r\n",
    "    driver.get(\"https://protrade-trial.vndirect.com.vn/trang-chu\") \r\n",
    "    return driver\r\n",
    "\r\n",
    "driver = openProtrial()\r\n",
    "time.sleep(5)\r\n",
    "checkbox=  driver.find_element_by_xpath(\"/html/body/div/div/div[7]/section/div[2]/div/p/input\")\r\n",
    "checkbox.click()\r\n",
    "\r\n",
    "confirmButton = driver.find_element_by_xpath(\"/html/body/div/div/div[7]/section/div[2]/div/button\")\r\n",
    "confirmButton.click()\r\n",
    "\r\n",
    "time.sleep(3)\r\n",
    "my_username = \"toiptune@viettel.com.vn\"\r\n",
    "my_password = \"luongducphat1977\"\r\n",
    "username = driver.find_element_by_name('username')\r\n",
    "password = driver.find_element_by_name('password')\r\n",
    "\r\n",
    "username.send_keys(my_username)\r\n",
    "password.send_keys(my_password)\r\n",
    "\r\n",
    "\r\n",
    "driver.find_element_by_xpath('/html/body/div/div/div[2]/div/section/div[2]/div/form/button').click()\r\n",
    "\r\n",
    "print(\"Succesfully login\")"
   ],
   "outputs": [
    {
     "output_type": "stream",
     "name": "stdout",
     "text": [
      "Succesfully login\n"
     ]
    }
   ],
   "metadata": {}
  },
  {
   "cell_type": "code",
   "execution_count": 10,
   "source": [
    "orderManager = OrderManager(driver)"
   ],
   "outputs": [],
   "metadata": {}
  },
  {
   "cell_type": "code",
   "execution_count": 8,
   "source": [
    "orderManager.send_sell_order('ATO',1)"
   ],
   "outputs": [],
   "metadata": {}
  },
  {
   "cell_type": "code",
   "execution_count": 11,
   "source": [
    "orderManager.refreshPage()"
   ],
   "outputs": [],
   "metadata": {}
  },
  {
   "cell_type": "code",
   "execution_count": 12,
   "source": [
    "orderManager.checkOrderStatus()"
   ],
   "outputs": [
    {
     "output_type": "execute_result",
     "data": {
      "text/plain": [
       "'error'"
      ]
     },
     "metadata": {},
     "execution_count": 12
    }
   ],
   "metadata": {}
  },
  {
   "cell_type": "code",
   "execution_count": 13,
   "source": [
    "process.process_past_data(['2021-07-20'],1)"
   ],
   "outputs": [
    {
     "output_type": "execute_result",
     "data": {
      "text/plain": [
       "     1minute        Price  Volume      TimeInterval\n",
       "0        540  1373.487623  3757.0    2021-07-20 9:0\n",
       "1        541  1374.266707  1637.0    2021-07-20 9:1\n",
       "2        542  1375.012607  1396.0    2021-07-20 9:2\n",
       "3        543  1374.322040  1284.0    2021-07-20 9:3\n",
       "4        544  1375.430796  1419.0    2021-07-20 9:4\n",
       "..       ...          ...     ...               ...\n",
       "238      867  1407.972480  1250.0  2021-07-20 14:27\n",
       "239      868  1408.517477  1625.0  2021-07-20 14:28\n",
       "240      869  1408.543227  2045.0  2021-07-20 14:29\n",
       "241      870  1408.500000   228.0  2021-07-20 14:30\n",
       "242      885  1405.000000  5824.0  2021-07-20 14:45\n",
       "\n",
       "[243 rows x 4 columns]"
      ],
      "text/html": [
       "<div>\n",
       "<style scoped>\n",
       "    .dataframe tbody tr th:only-of-type {\n",
       "        vertical-align: middle;\n",
       "    }\n",
       "\n",
       "    .dataframe tbody tr th {\n",
       "        vertical-align: top;\n",
       "    }\n",
       "\n",
       "    .dataframe thead th {\n",
       "        text-align: right;\n",
       "    }\n",
       "</style>\n",
       "<table border=\"1\" class=\"dataframe\">\n",
       "  <thead>\n",
       "    <tr style=\"text-align: right;\">\n",
       "      <th></th>\n",
       "      <th>1minute</th>\n",
       "      <th>Price</th>\n",
       "      <th>Volume</th>\n",
       "      <th>TimeInterval</th>\n",
       "    </tr>\n",
       "  </thead>\n",
       "  <tbody>\n",
       "    <tr>\n",
       "      <th>0</th>\n",
       "      <td>540</td>\n",
       "      <td>1373.487623</td>\n",
       "      <td>3757.0</td>\n",
       "      <td>2021-07-20 9:0</td>\n",
       "    </tr>\n",
       "    <tr>\n",
       "      <th>1</th>\n",
       "      <td>541</td>\n",
       "      <td>1374.266707</td>\n",
       "      <td>1637.0</td>\n",
       "      <td>2021-07-20 9:1</td>\n",
       "    </tr>\n",
       "    <tr>\n",
       "      <th>2</th>\n",
       "      <td>542</td>\n",
       "      <td>1375.012607</td>\n",
       "      <td>1396.0</td>\n",
       "      <td>2021-07-20 9:2</td>\n",
       "    </tr>\n",
       "    <tr>\n",
       "      <th>3</th>\n",
       "      <td>543</td>\n",
       "      <td>1374.322040</td>\n",
       "      <td>1284.0</td>\n",
       "      <td>2021-07-20 9:3</td>\n",
       "    </tr>\n",
       "    <tr>\n",
       "      <th>4</th>\n",
       "      <td>544</td>\n",
       "      <td>1375.430796</td>\n",
       "      <td>1419.0</td>\n",
       "      <td>2021-07-20 9:4</td>\n",
       "    </tr>\n",
       "    <tr>\n",
       "      <th>...</th>\n",
       "      <td>...</td>\n",
       "      <td>...</td>\n",
       "      <td>...</td>\n",
       "      <td>...</td>\n",
       "    </tr>\n",
       "    <tr>\n",
       "      <th>238</th>\n",
       "      <td>867</td>\n",
       "      <td>1407.972480</td>\n",
       "      <td>1250.0</td>\n",
       "      <td>2021-07-20 14:27</td>\n",
       "    </tr>\n",
       "    <tr>\n",
       "      <th>239</th>\n",
       "      <td>868</td>\n",
       "      <td>1408.517477</td>\n",
       "      <td>1625.0</td>\n",
       "      <td>2021-07-20 14:28</td>\n",
       "    </tr>\n",
       "    <tr>\n",
       "      <th>240</th>\n",
       "      <td>869</td>\n",
       "      <td>1408.543227</td>\n",
       "      <td>2045.0</td>\n",
       "      <td>2021-07-20 14:29</td>\n",
       "    </tr>\n",
       "    <tr>\n",
       "      <th>241</th>\n",
       "      <td>870</td>\n",
       "      <td>1408.500000</td>\n",
       "      <td>228.0</td>\n",
       "      <td>2021-07-20 14:30</td>\n",
       "    </tr>\n",
       "    <tr>\n",
       "      <th>242</th>\n",
       "      <td>885</td>\n",
       "      <td>1405.000000</td>\n",
       "      <td>5824.0</td>\n",
       "      <td>2021-07-20 14:45</td>\n",
       "    </tr>\n",
       "  </tbody>\n",
       "</table>\n",
       "<p>243 rows × 4 columns</p>\n",
       "</div>"
      ]
     },
     "metadata": {},
     "execution_count": 13
    }
   ],
   "metadata": {}
  },
  {
   "cell_type": "code",
   "execution_count": 38,
   "source": [
    "maStrategy = MA20(orderManager,['2021-07-20'], 1, 20)"
   ],
   "outputs": [],
   "metadata": {}
  },
  {
   "cell_type": "code",
   "execution_count": null,
   "source": [],
   "outputs": [],
   "metadata": {}
  },
  {
   "cell_type": "code",
   "execution_count": 40,
   "source": [
    "maStrategy.set_real_time_price(1497)\r\n"
   ],
   "outputs": [],
   "metadata": {}
  },
  {
   "cell_type": "code",
   "execution_count": 43,
   "source": [
    "maStrategy.enterLongPosition()\r\n",
    "maStrategy.enterShortPosition()"
   ],
   "outputs": [
    {
     "output_type": "execute_result",
     "data": {
      "text/plain": [
       "False"
      ]
     },
     "metadata": {},
     "execution_count": 43
    }
   ],
   "metadata": {}
  },
  {
   "cell_type": "code",
   "execution_count": 32,
   "source": [
    "maStrategy.BuyOder(1445, 1)"
   ],
   "outputs": [],
   "metadata": {}
  },
  {
   "cell_type": "code",
   "execution_count": 34,
   "source": [
    "maStrategy.orderManager.refreshPage()"
   ],
   "outputs": [],
   "metadata": {}
  },
  {
   "cell_type": "code",
   "execution_count": 35,
   "source": [
    "maStrategy.orderManager.checkOrderStatus()"
   ],
   "outputs": [
    {
     "output_type": "execute_result",
     "data": {
      "text/plain": [
       "'error'"
      ]
     },
     "metadata": {},
     "execution_count": 35
    }
   ],
   "metadata": {}
  },
  {
   "cell_type": "code",
   "execution_count": null,
   "source": [],
   "outputs": [],
   "metadata": {}
  }
 ],
 "metadata": {
  "kernelspec": {
   "name": "python3",
   "display_name": "Python 3.9.6 64-bit"
  },
  "language_info": {
   "codemirror_mode": {
    "name": "ipython",
    "version": 3
   },
   "file_extension": ".py",
   "mimetype": "text/x-python",
   "name": "python",
   "nbconvert_exporter": "python",
   "pygments_lexer": "ipython3",
   "version": "3.9.6"
  },
  "interpreter": {
   "hash": "e066a36c324fa4f3544318a8816ced283999c0b6c6e75d97ca2a5c90bd11d258"
  }
 },
 "nbformat": 4,
 "nbformat_minor": 4
}